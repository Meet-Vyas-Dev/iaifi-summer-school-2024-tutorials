{
 "cells": [
  {
   "cell_type": "markdown",
   "id": "324162a7-bef2-4990-bece-f05e24eadeeb",
   "metadata": {},
   "source": [
    "# How to mitigate the failures of Autoencoders\n",
    "In the tutorials we have seen an example of the use of variational autoencoders for anomaly detection in high energy physics.\n",
    "Autoencoders are powerful tools for data compression and noise mitigation. However, they failure modes can occur in presence of non trivial data structures.\n",
    "\n",
    "The problem of *complexity bias* has been discussed in multiple works in the high energy physics literature. \\\n",
    "See for instance:\n",
    "\n",
    "- *\"Topological obstructions to autoencoding\"* https://arxiv.org/abs/2102.08380\n",
    "- *\"Better latent spaces for better autoencoders\"* https://arxiv.org/abs/2104.08291\n",
    "- *A Normalized Autoencoder for LHC Triggers* https://arxiv.org/pdf/2206.14225\n",
    "\n",
    "Solutions rely either on the design of smart regularization schemes or smart inductive biased and model architectures.\n",
    "\n",
    "Can you think of a way to improve the variational autoencoder for LHC data studied in the tutorial?"
   ]
  },
  {
   "cell_type": "markdown",
   "id": "9ce44f3c-e973-4b9d-8cd9-b3cb3799ef9d",
   "metadata": {},
   "source": [
    "Other interesting papers on autoencoders:\n",
    "- *\"Wasserstein Auto-Encoders\"* https://arxiv.org/abs/1711.01558\n",
    "- *\"Exporation of homeomorphic variational auto-encoding\"* https://arxiv.org/abs/1807.04689"
   ]
  },
  {
   "cell_type": "code",
   "execution_count": null,
   "id": "8228e1e3-c62a-47ef-9c61-02faaa2f0bc0",
   "metadata": {},
   "outputs": [],
   "source": []
  }
 ],
 "metadata": {
  "kernelspec": {
   "display_name": "Python 3 (ipykernel)",
   "language": "python",
   "name": "python3"
  },
  "language_info": {
   "codemirror_mode": {
    "name": "ipython",
    "version": 3
   },
   "file_extension": ".py",
   "mimetype": "text/x-python",
   "name": "python",
   "nbconvert_exporter": "python",
   "pygments_lexer": "ipython3",
   "version": "3.10.14"
  }
 },
 "nbformat": 4,
 "nbformat_minor": 5
}
